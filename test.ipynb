{
 "cells": [
  {
   "cell_type": "code",
   "execution_count": null,
   "metadata": {},
   "outputs": [
    {
     "ename": "",
     "evalue": "",
     "output_type": "error",
     "traceback": [
      "\u001b[1;31mFailed to start the Kernel. \n",
      "\u001b[1;31mThe Jupyter notebook server failed to launch in time\n",
      "\u001b[1;31mC:\\Users\\MY PC\\anaconda3\\lib\\site-packages\\traitlets\\traitlets.py:2202: FutureWarning: Supporting extra quotes around strings is deprecated in traitlets 5.0. You can use 'e:\\\\\\\\iNeuron_Data_Science\\\\\\\\demo_pipeline' instead of '\"e:\\\\\\\\iNeuron_Data_Science\\\\\\\\demo_pipeline\"' if you require traitlets >=5.\n",
      "\u001b[1;31m  warn(\n",
      "\u001b[1;31m\n",
      "\u001b[1;31m[W 2023-03-25 17:32:24.382 LabApp] 'notebook_dir' has moved from NotebookApp to ServerApp. This config will be passed to ServerApp. Be sure to update your config before our next release.\n",
      "\u001b[1;31m\n",
      "\u001b[1;31m[W 2023-03-25 17:32:24.383 LabApp] 'config_file' was found in both NotebookApp and ServerApp. This is likely a recent change. This config will only be set in NotebookApp. Please check if you should also config these traits in ServerApp for your purpose.\n",
      "\u001b[1;31m[W 2023-03-25 17:32:24.383 LabApp] 'iopub_data_rate_limit' has moved from NotebookApp to ServerApp. This config will be passed to ServerApp. Be sure to update your config before our next release.\n",
      "\u001b[1;31m\n",
      "\u001b[1;31m[W 2023-03-25 17:32:24.384 LabApp] 'iopub_data_rate_limit' has moved from NotebookApp to ServerApp. This config will be passed to ServerApp. Be sure to update your config before our next release.\n",
      "\u001b[1;31m[W 2023-03-25 17:32:24.384 LabApp] 'iopub_data_rate_limit' has moved from NotebookApp to ServerApp. This config will be passed to ServerApp. Be sure to update your config before our next release.\n",
      "\u001b[1;31m\n",
      "\u001b[1;31m[I 2023-03-25 17:32:24.439 LabApp] JupyterLab extension loaded from C:\\Users\\MY PC\\anaconda3\\lib\\site-packages\\jupyterlab\n",
      "\u001b[1;31m\n",
      "\u001b[1;31m[I 2023-03-25 17:32:24.439 LabApp] JupyterLab application directory is C:\\Users\\MY PC\\anaconda3\\share\\jupyter\\lab\n",
      "\u001b[1;31m\n",
      "\u001b[1;31m[I 17:32:24.482 NotebookApp] The port 8888 is already in use, trying another port.\n",
      "\u001b[1;31m\n",
      "\u001b[1;31m[I 17:32:24.492 NotebookApp] Serving notebooks from local directory: e:\\\\iNeuron_Data_Science\\\\demo_pipeline\n",
      "\u001b[1;31m\n",
      "\u001b[1;31m[I 17:32:24.492 NotebookApp] Jupyter Notebook 6.4.8 is running at:\n",
      "\u001b[1;31m[I 17:32:24.493 NotebookApp] http://localhost:8889/?token=86c8947b6609fd02d987d663ffd53a65c23aa24cfe1e8079\n",
      "\u001b[1;31m\n",
      "\u001b[1;31m[I 17:32:24.493 NotebookApp]  or http://127.0.0.1:8889/?token=86c8947b6609fd02d987d663ffd53a65c23aa24cfe1e8079\n",
      "\u001b[1;31m[I 17:32:24.493 NotebookApp] Use Control-C to stop this server and shut down all kernels (twice to skip confirmation).\n",
      "\u001b[1;31m\n",
      "\u001b[1;31m[C 17:32:24.535 NotebookApp] \n",
      "\u001b[1;31m    \n",
      "\u001b[1;31m    To access the notebook, open this file in a browser:\n",
      "\u001b[1;31m        file:///C:/Users/MY%20PC/AppData/Roaming/jupyter/runtime/nbserver-756-open.html\n",
      "\u001b[1;31m    Or copy and paste one of these URLs:\n",
      "\u001b[1;31m        http://localhost:8889/?token=86c8947b6609fd02d987d663ffd53a65c23aa24cfe1e8079\n",
      "\u001b[1;31m     or http://127.0.0.1:8889/?token=86c8947b6609fd02d987d663ffd53a65c23aa24cfe1e8079. \n",
      "\u001b[1;31mView Jupyter <a href='command:jupyter.viewOutput'>log</a> for further details."
     ]
    }
   ],
   "source": [
    "import pandas\n"
   ]
  }
 ],
 "metadata": {
  "kernelspec": {
   "display_name": "Python 3",
   "language": "python",
   "name": "python3"
  },
  "language_info": {
   "name": "python",
   "version": "3.8.16"
  },
  "orig_nbformat": 4
 },
 "nbformat": 4,
 "nbformat_minor": 2
}
